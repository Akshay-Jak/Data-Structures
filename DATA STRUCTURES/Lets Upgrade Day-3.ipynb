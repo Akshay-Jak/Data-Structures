{
 "cells": [
  {
   "cell_type": "markdown",
   "metadata": {},
   "source": [
    "ADDITION USING CLASS AND OBJECT"
   ]
  },
  {
   "cell_type": "code",
   "execution_count": 2,
   "metadata": {},
   "outputs": [
    {
     "name": "stdout",
     "output_type": "stream",
     "text": [
      "Enter the Two Numbers : \n",
      "25\n",
      "35\n",
      "\n",
      " The Sum of 25 and 35 is 60\n"
     ]
    }
   ],
   "source": [
    "class Addition:\n",
    "    def add(self,a,b):\n",
    "        return a+b\n",
    "print(\"Enter the Two Numbers : \")\n",
    "n1 = int(input())\n",
    "n2 = int(input())\n",
    "\n",
    "obj = Addition()\n",
    "Sum = obj.add(n1,n2)\n",
    "\n",
    "print(\"\\n The Sum of \"+ str(n1)+\" and \"+str(n2)+ \" is \" +str(Sum))\n"
   ]
  },
  {
   "cell_type": "markdown",
   "metadata": {},
   "source": [
    "SWAPPING THE NUMBERS"
   ]
  },
  {
   "cell_type": "code",
   "execution_count": 2,
   "metadata": {},
   "outputs": [
    {
     "name": "stdout",
     "output_type": "stream",
     "text": [
      "Enter a: 12\n",
      "Enter b: 14\n",
      "Swapped values are a:  14  b:  12\n"
     ]
    }
   ],
   "source": [
    "def swap(a,b):\n",
    "    a,b = b,a\n",
    "    return a,b\n",
    "a = int(input(\"Enter a: \"))\n",
    "b = int(input(\"Enter b: \"))\n",
    "a,b = swap(a,b)\n",
    "print(\"Swapped values are a: \",a,\" b: \",b)"
   ]
  }
 ],
 "metadata": {
  "kernelspec": {
   "display_name": "Python 3",
   "language": "python",
   "name": "python3"
  },
  "language_info": {
   "codemirror_mode": {
    "name": "ipython",
    "version": 3
   },
   "file_extension": ".py",
   "mimetype": "text/x-python",
   "name": "python",
   "nbconvert_exporter": "python",
   "pygments_lexer": "ipython3",
   "version": "3.8.5"
  }
 },
 "nbformat": 4,
 "nbformat_minor": 4
}
