{
 "cells": [
  {
   "cell_type": "markdown",
   "metadata": {},
   "source": [
    "1) What is the time, space complexity of following code:\n",
    "int a = 0, b = 0;\n",
    "for (i = 0; i < N; i++) {\n",
    "a = a + 1;\n",
    "}\n",
    "for (j = 0; j < M; j++) {\n",
    "b = b + j;\n",
    "}\n"
   ]
  },
  {
   "cell_type": "raw",
   "metadata": {},
   "source": [
    "ANSWER : Time Complexity : O(N*M)\n",
    "         Space Complexity : O(1)"
   ]
  },
  {
   "cell_type": "raw",
   "metadata": {},
   "source": [
    "2) What does it mean when we say that an algorithm X is asymptotically more efficient than Y?\n",
    "\n",
    "a)X will be a better choice for all inputs\n",
    "b)X will be a better choice for all inputs except possibly small inputs\n",
    "c)X will be a better choice for all inputs except possibly large inputs\n",
    "d)Y will be a better choice for small inputs"
   ]
  },
  {
   "cell_type": "raw",
   "metadata": {},
   "source": [
    "The Answer is option b) X will be a better choice for all inputs except possibly small inputs.\n",
    "\n",
    "This maybe True at some cases but it is not true for each and every input cases."
   ]
  }
 ],
 "metadata": {
  "kernelspec": {
   "display_name": "Python 3",
   "language": "python",
   "name": "python3"
  },
  "language_info": {
   "codemirror_mode": {
    "name": "ipython",
    "version": 3
   },
   "file_extension": ".py",
   "mimetype": "text/x-python",
   "name": "python",
   "nbconvert_exporter": "python",
   "pygments_lexer": "ipython3",
   "version": "3.8.5"
  }
 },
 "nbformat": 4,
 "nbformat_minor": 4
}
