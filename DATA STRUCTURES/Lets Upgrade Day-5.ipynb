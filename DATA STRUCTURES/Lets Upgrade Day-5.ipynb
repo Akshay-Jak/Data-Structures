{
 "cells": [
  {
   "cell_type": "markdown",
   "metadata": {},
   "source": [
    "SORTING TECHNIQUES"
   ]
  },
  {
   "cell_type": "raw",
   "metadata": {},
   "source": [
    "Some of the sorting Algorithms are :\n",
    "\n",
    "1. Insertion Sort \n",
    "- BEST CASE : Ω(N)\n",
    "- AVERAGE CASE :Θ(N^2) \n",
    "- WORST CASE : O(N^2)\n",
    "\n",
    "2. Bubble Sort\n",
    "- BEST CASE : Ω(N)\n",
    "- AVERAGE CASE :Θ(N^2) \n",
    "- WORST CASE : O(N^2)\n",
    "\n",
    "3. Selection Sort\n",
    "- BEST CASE : Ω(N^2)\n",
    "- AVERAGE CASE :Θ(N^2) \n",
    "- WORST CASE : O(N^2)\n",
    "\n",
    "4. Merge Sort\n",
    "- BEST CASE : Ω(N log N)\n",
    "- AVERAGE CASE :Θ(N log N) \n",
    "- WORST CASE : O(N log N)\n",
    "\n",
    "5. Quick Sort\n",
    "- BEST CASE : Ω(N log N)\n",
    "- AVERAGE CASE :Θ(N log N) \n",
    "- WORST CASE : O(N^2)\n",
    "\n",
    "\n"
   ]
  },
  {
   "cell_type": "markdown",
   "metadata": {},
   "source": [
    "2) SELECTION SORT"
   ]
  },
  {
   "cell_type": "code",
   "execution_count": 4,
   "metadata": {},
   "outputs": [
    {
     "name": "stdout",
     "output_type": "stream",
     "text": [
      "[12, 54, 63, 78, 92]\n"
     ]
    }
   ],
   "source": [
    "\n",
    "def selectionSort( arr ):\n",
    "    n = len( arr )\n",
    "    for i in range( n - 1 ): \n",
    "        min_index = i\n",
    "\n",
    "        for j in range( i + 1, n ):\n",
    "            if arr[j] < arr[min_index] :\n",
    "                min_index = j\n",
    "\n",
    "        if min_index != i :\n",
    "           arr[i] , arr[min_index] = arr[min_index] , arr[i] \n",
    "    return arr\n",
    "\n",
    "\n",
    "l = [54,78,63,92,12]\n",
    "print(selectionSort(l))\n"
   ]
  },
  {
   "cell_type": "raw",
   "metadata": {},
   "source": [
    "3) POP OPERATION IN STACK"
   ]
  },
  {
   "cell_type": "code",
   "execution_count": 11,
   "metadata": {},
   "outputs": [
    {
     "name": "stdout",
     "output_type": "stream",
     "text": [
      "Enter the elemnts in the stack:1 2 3 4 5\n",
      "[1, 2, 3, 4, 5]\n",
      "The popped stack is \n",
      "[]\n"
     ]
    }
   ],
   "source": [
    "stack = [int(i) for i in input(\"Enter the elemnts in the stack:\").split()]  \n",
    "print(stack)\n",
    "stack = l\n",
    "n = len(l)\n",
    "for i in range(n):\n",
    "    l.pop()\n",
    "print(\"The popped stack is \")\n",
    "print(l)\n"
   ]
  },
  {
   "cell_type": "raw",
   "metadata": {},
   "source": [
    "4) DEQUE OPERATION IN STACK"
   ]
  },
  {
   "cell_type": "code",
   "execution_count": 2,
   "metadata": {},
   "outputs": [
    {
     "name": "stdout",
     "output_type": "stream",
     "text": [
      "Enqueue 10\n",
      "Enqueue 20\n",
      "Enqueue 30\n",
      "10 20 30 \n",
      "Dequeue\n",
      "10 20 \n",
      "Dequeue\n",
      "10 \n",
      "Dequeue\n",
      "Dequeue\n",
      "Underflow\n",
      "Underflow\n"
     ]
    }
   ],
   "source": [
    "def enqueue(x):\n",
    "    global f,r\n",
    "    print(\"Enqueue\",x)\n",
    "    if r == size-1:\n",
    "        print(\"Overflow\")\n",
    "        return\n",
    "    if r == -1:\n",
    "        f=r=0\n",
    "    else:\n",
    "        r+=1\n",
    "    queue.insert(r,x)\n",
    "\n",
    "def dequeue():\n",
    "    print(\"Dequeue\")\n",
    "    global f,r\n",
    "    if r == -1:\n",
    "        print(\"Underflow\")\n",
    "        return\n",
    "    queue.pop()\n",
    "    r-=1\n",
    "    \n",
    "\n",
    "def display():\n",
    "    global f,r\n",
    "    if r==-1:\n",
    "        print(\"Underflow\")\n",
    "        return\n",
    "    for i in range(f,r+1):\n",
    "        print(queue[i], end=\" \")\n",
    "    print()\n",
    "queue = list()\n",
    "f = -1\n",
    "r = -1\n",
    "size = 5\n",
    "\n",
    "enqueue(10)\n",
    "enqueue(20)\n",
    "enqueue(30)\n",
    "\n",
    "display()\n",
    "dequeue()\n",
    "display()\n",
    "dequeue()\n",
    "display()\n",
    "dequeue()\n",
    "dequeue()\n",
    "display()"
   ]
  }
 ],
 "metadata": {
  "kernelspec": {
   "display_name": "Python 3",
   "language": "python",
   "name": "python3"
  },
  "language_info": {
   "codemirror_mode": {
    "name": "ipython",
    "version": 3
   },
   "file_extension": ".py",
   "mimetype": "text/x-python",
   "name": "python",
   "nbconvert_exporter": "python",
   "pygments_lexer": "ipython3",
   "version": "3.8.5"
  }
 },
 "nbformat": 4,
 "nbformat_minor": 4
}
