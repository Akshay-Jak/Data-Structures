{
 "cells": [
  {
   "cell_type": "markdown",
   "metadata": {},
   "source": [
    "BARUA NUMBERS"
   ]
  },
  {
   "cell_type": "code",
   "execution_count": 18,
   "metadata": {},
   "outputs": [
    {
     "name": "stdout",
     "output_type": "stream",
     "text": [
      "list1 = 10 121 10000000000\n",
      "10\n",
      "121\n",
      "10000000000\n",
      "12100000000000\n"
     ]
    }
   ],
   "source": [
    "l = [ int(i) for i in input('list1 = ' ).split()]\n",
    "a=0\n",
    "count=0\n",
    "for i in l:\n",
    "    print(i)\n",
    "    if str(i)[0] != \"1\":\n",
    "        a=1\n",
    "        break\n",
    "    \n",
    "    st = str(i)\n",
    "    stlen = len(st)\n",
    "    for j in range(1,stlen):\n",
    "        if(st[j] != \"0\"):\n",
    "            count += 1\n",
    "            break\n",
    "\n",
    "if(a==0 and (count == 1 or count == 0)):\n",
    "    mul = 1\n",
    "    for i in l:\n",
    "        mul *= i \n",
    "    print(mul)\n",
    "else:\n",
    "    print(\"Not a Barua Number\")"
   ]
  },
  {
   "cell_type": "markdown",
   "metadata": {},
   "source": [
    "GET MINIMUM ELEMENT IN THE STACK USING PUSH AND POP OPERATION"
   ]
  },
  {
   "cell_type": "code",
   "execution_count": 16,
   "metadata": {},
   "outputs": [
    {
     "name": "stdout",
     "output_type": "stream",
     "text": [
      "4\n",
      "POP\n",
      "10\n",
      "5\n",
      "POP\n",
      "10\n"
     ]
    }
   ],
   "source": [
    "class stack:\n",
    " \n",
    "  def __init__(self):\n",
    " \n",
    "    self.array = []\n",
    "    self.top = -1\n",
    "    self.max = 100 \n",
    " \n",
    "  \n",
    "  def isEmpty(self):\n",
    " \n",
    "    if self.top == -1:\n",
    "      return True\n",
    "    else:\n",
    "      return False \n",
    " \n",
    "  \n",
    "  def isFull(self):  \n",
    "     \n",
    "    if self.top == self.max - 1:\n",
    "      return True\n",
    "    else:\n",
    "      return False  \n",
    " \n",
    "     \n",
    " \n",
    "  def push(self, data):\n",
    " \n",
    "    if self.isFull():\n",
    "      print('Stack OverFlow')\n",
    "      return\n",
    "    else:\n",
    "      self.top += 1\n",
    "      self.array.append(data)     \n",
    " \n",
    "   \n",
    "  def pop(self):\n",
    " \n",
    "    if self.isEmpty():\n",
    "      print('Stack UnderFlow')\n",
    "      return\n",
    "    else: \n",
    "      self.top -= 1\n",
    "      return self.array.pop()\n",
    " \n",
    "\n",
    "class SpecialStack(stack):\n",
    " \n",
    "  def __init__(self):\n",
    "    super().__init__()\n",
    "    self.Min = stack()  \n",
    " \n",
    "  \n",
    "  def push(self, x):\n",
    " \n",
    "    if self.isEmpty():\n",
    "      super().push(x)\n",
    "      self.Min.push(x)\n",
    "    else:\n",
    "      super().push(x)\n",
    "      y = self.Min.pop()\n",
    "      self.Min.push(y)\n",
    "      if x <= y:\n",
    "        self.Min.push(x)\n",
    "      else:\n",
    "        self.Min.push(y)  \n",
    " \n",
    "   \n",
    "  def pop(self):\n",
    "    print(\"POP\")\n",
    "    x = super().pop()\n",
    "    self.Min.pop()\n",
    "    return x  \n",
    " \n",
    "  \n",
    "  def getmin(self):\n",
    " \n",
    "    x = self.Min.pop()\n",
    "    self.Min.push(x)\n",
    "    return x\n",
    " \n",
    "\n",
    "if __name__ == '__main__':\n",
    "   \n",
    "  s = SpecialStack()\n",
    "  s.push(10)\n",
    "  s.push(20)\n",
    "  s.push(30)\n",
    "  s.push(4)\n",
    "  print(s.getmin())\n",
    "  s.pop()\n",
    "  print(s.getmin())\n",
    "  s.push(5)\n",
    "  print(s.getmin())\n",
    "  s.pop()\n",
    "  print(s.getmin())"
   ]
  }
 ],
 "metadata": {
  "kernelspec": {
   "display_name": "Python 3",
   "language": "python",
   "name": "python3"
  },
  "language_info": {
   "codemirror_mode": {
    "name": "ipython",
    "version": 3
   },
   "file_extension": ".py",
   "mimetype": "text/x-python",
   "name": "python",
   "nbconvert_exporter": "python",
   "pygments_lexer": "ipython3",
   "version": "3.8.5"
  }
 },
 "nbformat": 4,
 "nbformat_minor": 4
}
