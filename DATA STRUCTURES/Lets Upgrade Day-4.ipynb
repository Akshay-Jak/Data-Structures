{
 "cells": [
  {
   "cell_type": "markdown",
   "metadata": {},
   "source": [
    "INSERTION AND DELETION IN A LINKED LIST"
   ]
  },
  {
   "cell_type": "code",
   "execution_count": 5,
   "metadata": {},
   "outputs": [
    {
     "name": "stdout",
     "output_type": "stream",
     "text": [
      "40\n",
      "30\n",
      "20\n",
      "10\n",
      "Delete\n",
      "40\n",
      "30\n"
     ]
    }
   ],
   "source": [
    "class Node:\n",
    "    def __init__(self,data):\n",
    "        self.data = data\n",
    "        self.next = None\n",
    "class LinkedList:\n",
    "    def __init__(self):\n",
    "        self.head = None\n",
    "    def insertBeg(self,new_data):\n",
    "        new_node = Node(new_data)\n",
    "        new_node.next = self.head\n",
    "        self.head = new_node\n",
    "    \n",
    "    def deleteEnd(self):\n",
    "        if(self.head == None):\n",
    "            print(\"Empty\")\n",
    "            return\n",
    "        temp = self.head\n",
    "        prev = self.head\n",
    "        while(temp.next != None):\n",
    "            prev = temp\n",
    "            temp = temp.next\n",
    "        prev.next = None\n",
    "        temp = None\n",
    "\n",
    "    def display(self):\n",
    "        if(self.head == None):\n",
    "            print(\"Empty\")\n",
    "            return\n",
    "        temp = self.head\n",
    "        while(temp != None):\n",
    "            print(temp.data)\n",
    "            temp = temp.next\n",
    "l= LinkedList()\n",
    "l.insertBeg(10)        \n",
    "l.insertBeg(20)  \n",
    "l.insertBeg(30)  \n",
    "l.insertBeg(40)  \n",
    "l.display()\n",
    "print(\"Delete\")\n",
    "l.deleteEnd()\n",
    "l.deleteEnd()\n",
    "l.display()\n",
    "        "
   ]
  },
  {
   "cell_type": "markdown",
   "metadata": {},
   "source": [
    "FIND THE MIDDLE ELEMENT OF A LINKED LIST"
   ]
  },
  {
   "cell_type": "code",
   "execution_count": 6,
   "metadata": {},
   "outputs": [
    {
     "name": "stdout",
     "output_type": "stream",
     "text": [
      "The middle Element of the LinkedList is  22\n"
     ]
    }
   ],
   "source": [
    "class Node:\n",
    "    def __init__(self,data):\n",
    "        self.data = data\n",
    "        self.next = None\n",
    "class LinkedList:\n",
    "    def __init__(self):\n",
    "        self.head = None\n",
    "    def push(self,new_data):\n",
    "        new_node = Node(new_data)\n",
    "        new_node.next = self.head\n",
    "        self.head = new_node\n",
    "    def Middle(self):\n",
    "        slow_ptr = self.head\n",
    "        fast_ptr = self.head\n",
    "        if self.head is not None:\n",
    "            while(fast_ptr is not None and fast_ptr.next is not None):\n",
    "                fast_ptr = fast_ptr.next.next\n",
    "                slow_ptr = slow_ptr.next\n",
    "            print(\"The middle Element of the LinkedList is \",slow_ptr.data)\n",
    "\n",
    "l = LinkedList() \n",
    "l.push(59) \n",
    "l.push(46) \n",
    "l.push(22) \n",
    "l.push(35) \n",
    "l.push(10) \n",
    "l.Middle() "
   ]
  },
  {
   "cell_type": "markdown",
   "metadata": {},
   "source": [
    "BNARY SEARCH IN A LINKED LIST "
   ]
  },
  {
   "cell_type": "code",
   "execution_count": 3,
   "metadata": {},
   "outputs": [
    {
     "name": "stdout",
     "output_type": "stream",
     "text": [
      "Enter the elements: 1 2 3 4 5\n",
      "Enter the number to be found: 6\n",
      "-1\n"
     ]
    }
   ],
   "source": [
    "def search(nums, target):\n",
    "        left = 0\n",
    "        right = len(nums)-1\n",
    "               \n",
    "        while(left<=right):\n",
    "            mid= (left + right)/2\n",
    "            mid = int(mid)\n",
    "        \n",
    "            if (target<nums[mid]):\n",
    "                right= mid-1\n",
    "            else:\n",
    "                left=mid+1\n",
    "            if (target==nums[mid]):\n",
    "                return mid+1\n",
    "        return -1\n",
    "nums = [int(i) for i in input(\"Enter the elements: \").split()]\n",
    "target = int(input(\"Enter the number to be found: \"))\n",
    "print(search(nums,target))\n",
    "        \n",
    "       "
   ]
  }
 ],
 "metadata": {
  "kernelspec": {
   "display_name": "Python 3",
   "language": "python",
   "name": "python3"
  },
  "language_info": {
   "codemirror_mode": {
    "name": "ipython",
    "version": 3
   },
   "file_extension": ".py",
   "mimetype": "text/x-python",
   "name": "python",
   "nbconvert_exporter": "python",
   "pygments_lexer": "ipython3",
   "version": "3.8.5"
  }
 },
 "nbformat": 4,
 "nbformat_minor": 4
}
