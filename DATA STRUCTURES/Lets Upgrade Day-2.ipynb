{
 "cells": [
  {
   "cell_type": "raw",
   "metadata": {},
   "source": [
    "PROGRAM TO PRINT THE FOLLOWING PATTERN\n",
    "\n",
    "    1\n",
    "   22\n",
    "  333\n",
    " 4444\n",
    "55555"
   ]
  },
  {
   "cell_type": "code",
   "execution_count": 4,
   "metadata": {},
   "outputs": [
    {
     "name": "stdout",
     "output_type": "stream",
     "text": [
      "     1\n",
      "    22\n",
      "   333\n",
      "  4444\n",
      " 55555\n"
     ]
    }
   ],
   "source": [
    "n = 5\n",
    "for i in range(1,n+1):\n",
    "    print(\" \" *(n-i),str(i) * i)"
   ]
  },
  {
   "cell_type": "markdown",
   "metadata": {},
   "source": [
    "PYTHON PROGRAM TO PRINT EVEN NUMBERS IN A LIST"
   ]
  },
  {
   "cell_type": "code",
   "execution_count": 3,
   "metadata": {},
   "outputs": [
    {
     "name": "stdout",
     "output_type": "stream",
     "text": [
      "list1 = 12 3 55 6 144\n",
      "12 6 144 "
     ]
    }
   ],
   "source": [
    "l = [ int(i) for i in input('list1 = ' ).split()]\n",
    "for n in l:\n",
    "    if n%2==0:\n",
    "        print(n,end = \" \")"
   ]
  }
 ],
 "metadata": {
  "kernelspec": {
   "display_name": "Python 3",
   "language": "python",
   "name": "python3"
  },
  "language_info": {
   "codemirror_mode": {
    "name": "ipython",
    "version": 3
   },
   "file_extension": ".py",
   "mimetype": "text/x-python",
   "name": "python",
   "nbconvert_exporter": "python",
   "pygments_lexer": "ipython3",
   "version": "3.8.5"
  }
 },
 "nbformat": 4,
 "nbformat_minor": 4
}
